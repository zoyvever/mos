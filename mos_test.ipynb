{
 "cells": [
  {
   "cell_type": "markdown",
   "metadata": {},
   "source": [
    "#### Жаль что нет логов кликов по выданным документам. И хронологии с привязкой к пользователю.\n",
    "#### Задача напоминает нахождение похожих предложений. надо просто снизить планку похожести для увеличения размера групп запросов. \n",
    "####    Известно, что если запросы состоят из похожих слов, то и запросы похожи. Для сравнения смыслов слов исползуется Word2Vec. Либо можно задать в цифровом варианте сразу смысл целых запросов. Это прямая задача для Doc2Vec.\n",
    "####  Далее надо определиться с колличеством желаемых групп. Это скорее зависит от цели кластеризации.\n",
    "##### сначала попробуем просто найти одинаковые запросы независимо от колличества групп:\n",
    "\n",
    "- по-старинке выберем одинаковые запросы по вхождению слов\n",
    "\n",
    "- простое сравнение Doc2Vec\n",
    "\n",
    "- Для разных типов обработки запросов можно сгруппировать их всего на 4 группы:   ['купить','смотреть/читать','инфо','другое']. для этого я задала точное колличество групп для группировки k-means с вручную выбранными центрами \n",
    "    \n",
    "- можно попробовать найти реальное количество групп и дальше придумать их обработку. Я попыталсь сделать это с помощью elbow-метода для k-means"
   ]
  },
  {
   "cell_type": "code",
   "execution_count": 2,
   "metadata": {
    "collapsed": false
   },
   "outputs": [],
   "source": [
    "import re\n",
    "import requests\n",
    "import gensim\n",
    "from gensim.models import Phrases, Doc2Vec, Word2Vec\n",
    "import pymorphy2\n",
    "import pandas as pd\n",
    "from io import StringIO\n",
    "from sklearn.cluster import KMeans\n",
    "from matplotlib import pyplot\n",
    "from sklearn import metrics\n",
    "\n",
    "def cleanhtml(raw_html):\n",
    "    cleanr = re.compile('<.*?>')\n",
    "    cleantext = re.sub(cleanr, '', raw_html)\n",
    "    return cleantext\n",
    "\n",
    "def stem(row):\n",
    "    ar = row.lower().split()\n",
    "    for i in range(len(ar)):    \n",
    "        ar[i] = morph.parse(ar[i])[0].normal_form\n",
    "    return ar\n",
    "\n",
    "morph = pymorphy2.MorphAnalyzer()\n",
    "link = 'https://export.yandex.ru/last/last20x.xml'"
   ]
  },
  {
   "cell_type": "code",
   "execution_count": 82,
   "metadata": {
    "collapsed": false
   },
   "outputs": [],
   "source": [
    "#сбор даных с яндекса. после ~140тысяч уникальные длинные запросы стали добавляться слишком медленно.\n",
    "d = pd.DataFrame()\n",
    "while len(d)<10000:\n",
    "    f = requests.get(link).text\n",
    "    f = cleanhtml(f)\n",
    "    tex = StringIO(f)\n",
    "    d1= pd.read_csv(tex, sep='\\n')\n",
    "    d1.columns = ['text']\n",
    "    ind = d1[d1['text'].str.contains(' [a-zA-Z] |&')].index\n",
    "    d1.drop(ind,inplace=True)\n",
    "    d1['text'] = d1['text'].apply(lambda x: re.sub('[123456.,7890-=+_)(*^%$#@!~`|\\/)?><\":]| {2,11}', '', x))\n",
    "    d1['spac'] = d1['text'].apply(lambda x: x.count(' '))\n",
    "    #d1 = d1[d1['spac']>1] #для увеличения точности обучаемых моделей брала запросы не короче 3х слов\n",
    "    d = d.append(d1,ignore_index= True)\n",
    "    #d.drop_duplicates('text',inplace=True) #для тренировки модели обойдемся без дубликатов"
   ]
  },
  {
   "cell_type": "code",
   "execution_count": 87,
   "metadata": {
    "collapsed": false
   },
   "outputs": [
    {
     "name": "stderr",
     "output_type": "stream",
     "text": [
      "/home/zoy/anaconda3/lib/python3.5/site-packages/gensim/models/phrases.py:248: UserWarning: For a faster implementation, use the gensim.models.phrases.Phraser class\n",
      "  warnings.warn(\"For a faster implementation, use the gensim.models.phrases.Phraser class\")\n"
     ]
    }
   ],
   "source": [
    "d['split_stem'] = d['text'].apply(stem)\n",
    "ar = list(d['split_stem'])\n",
    "\n",
    "#train phrases\n",
    "bg = Phrases(ar) \n",
    "d['bgrams'] = d['split_stem'].apply(lambda x: bg[x])\n",
    "\n",
    "#make LabeledSentences set for Doc2Vec training\n",
    "d = d.reset_index()\n",
    "d['tpls'] = d.apply(lambda x: (x['bgrams'],x['index']),1)\n",
    "d['tpls'] = d['tpls'].apply(lambda x: gensim.models.doc2vec.LabeledSentence(x[0],[x[1]]))\n",
    "sentences = list(d['tpls'])\n",
    "d.drop(['tpls','spac'],1, inplace = True)\n",
    "\n",
    "model = Doc2Vec(alpha=0.025, min_alpha=0.025)  # use fixed learning rate\n",
    "model.build_vocab(sentences)\n",
    "for epoch in range(10):\n",
    "    model.train(sentences)\n",
    "    model.alpha -= 0.002  # decrease the learning rate\n",
    "    model.min_alpha = model.alpha"
   ]
  },
  {
   "cell_type": "markdown",
   "metadata": {},
   "source": [
    "#### Вот 5 рандомно выбранных строк получившейся таблицы.  Видно, что фразы в толбце 'bgrams' отработали неплохо"
   ]
  },
  {
   "cell_type": "code",
   "execution_count": 26,
   "metadata": {
    "collapsed": false,
    "scrolled": false
   },
   "outputs": [
    {
     "data": {
      "text/html": [
       "<div>\n",
       "<table border=\"1\" class=\"dataframe\">\n",
       "  <thead>\n",
       "    <tr style=\"text-align: right;\">\n",
       "      <th></th>\n",
       "      <th>index</th>\n",
       "      <th>text</th>\n",
       "      <th>split_stem</th>\n",
       "      <th>bgrams</th>\n",
       "    </tr>\n",
       "  </thead>\n",
       "  <tbody>\n",
       "    <tr>\n",
       "      <th>4401</th>\n",
       "      <td>4401</td>\n",
       "      <td>Крайстчерч</td>\n",
       "      <td>[крайстчерч]</td>\n",
       "      <td>[крайстчерч]</td>\n",
       "    </tr>\n",
       "    <tr>\n",
       "      <th>1402</th>\n",
       "      <td>1402</td>\n",
       "      <td>купить пляжную одежду в интернет магазине недо...</td>\n",
       "      <td>[купить, пляжный, одежда, в, интернет, магазин...</td>\n",
       "      <td>[купить, пляжный, одежда, в, интернет_магазин,...</td>\n",
       "    </tr>\n",
       "    <tr>\n",
       "      <th>573</th>\n",
       "      <td>573</td>\n",
       "      <td>как устранить скрип подошвы обуви</td>\n",
       "      <td>[как, устранить, скрип, подошва, обувь]</td>\n",
       "      <td>[как, устранить, скрип, подошва, обувь]</td>\n",
       "    </tr>\n",
       "    <tr>\n",
       "      <th>1211</th>\n",
       "      <td>1211</td>\n",
       "      <td>рапорт на ветеранский отпуск</td>\n",
       "      <td>[рапорт, на, ветеранский, отпуск]</td>\n",
       "      <td>[рапорт, на, ветеранский, отпуск]</td>\n",
       "    </tr>\n",
       "    <tr>\n",
       "      <th>205</th>\n",
       "      <td>205</td>\n",
       "      <td>форум для встречи поставщиков и покупателей сп...</td>\n",
       "      <td>[форум, для, встреча, поставщик, и, покупатель...</td>\n",
       "      <td>[форум, для, встреча, поставщик, и, покупатель...</td>\n",
       "    </tr>\n",
       "  </tbody>\n",
       "</table>\n",
       "</div>"
      ],
      "text/plain": [
       "      index                                               text  \\\n",
       "4401   4401                                         Крайстчерч   \n",
       "1402   1402  купить пляжную одежду в интернет магазине недо...   \n",
       "573     573                  как устранить скрип подошвы обуви   \n",
       "1211   1211                       рапорт на ветеранский отпуск   \n",
       "205     205  форум для встречи поставщиков и покупателей сп...   \n",
       "\n",
       "                                             split_stem  \\\n",
       "4401                                       [крайстчерч]   \n",
       "1402  [купить, пляжный, одежда, в, интернет, магазин...   \n",
       "573             [как, устранить, скрип, подошва, обувь]   \n",
       "1211                  [рапорт, на, ветеранский, отпуск]   \n",
       "205   [форум, для, встреча, поставщик, и, покупатель...   \n",
       "\n",
       "                                                 bgrams  \n",
       "4401                                       [крайстчерч]  \n",
       "1402  [купить, пляжный, одежда, в, интернет_магазин,...  \n",
       "573             [как, устранить, скрип, подошва, обувь]  \n",
       "1211                  [рапорт, на, ветеранский, отпуск]  \n",
       "205   [форум, для, встреча, поставщик, и, покупатель...  "
      ]
     },
     "execution_count": 26,
     "metadata": {},
     "output_type": "execute_result"
    }
   ],
   "source": [
    "d.sample(5)"
   ]
  },
  {
   "cell_type": "markdown",
   "metadata": {},
   "source": [
    "####   Для точности определения по вхождениям лучше исключить стоп-слова и использовать расстояние левенштейна. \n",
    "<b> Но составление списка стоп-слов это уже отдельная задача,</b>  <i> (например слова \"что, это, такое\" обычно идут в стоп- слова, но тут они могут формировать отдельную группу запросов типа инфо. и \"укрф что это\" и \"укрф читать\" должны быть в разных группах)</i>,<b>   да и я уже составила словосочетания. Запросы будут сравниваться со всеми другими запросами, что подразумевает квадратичное время выполнения. Поэтому я возьму только 10000 запросов, буду сравнивать найденные словосочетания как одно слово и не брать слова короче 3х символов (это отбросит большинство предлогов). Группировать буду если у взятого для сравенния запроса больше половины слов присутствует в сравниваемом запросе.</b>\n",
    "\n",
    "\n",
    "* btw: elasticsearch можно научить это делать. и он справляется за доли секунды"
   ]
  },
  {
   "cell_type": "code",
   "execution_count": 119,
   "metadata": {
    "collapsed": false
   },
   "outputs": [
    {
     "data": {
      "text/plain": [
       "query\n",
       "785     8\n",
       "783     7\n",
       "2292    5\n",
       "402     5\n",
       "5470    4\n",
       "3185    4\n",
       "380     4\n",
       "788     4\n",
       "6138    3\n",
       "267     3\n",
       "dtype: int64"
      ]
     },
     "execution_count": 119,
     "metadata": {},
     "output_type": "execute_result"
    }
   ],
   "source": [
    "data = d.sample(10000)\n",
    "related=[]\n",
    "for i in data.index:\n",
    "    try:\n",
    "        str1 = set([x for x in data.loc[i,'bgrams'] if len(x)>2])\n",
    "        for j in data.index[i+1:]:\n",
    "            str2 = data.loc[j,'bgrams']\n",
    "            cnt = 0\n",
    "            for word in set([x for x in str1 if len(x)>2]):\n",
    "                if word in str2:\n",
    "                    cnt += 1\n",
    "            if len(str2)>0 and cnt/len(str2) > 0.6:\n",
    "                related.append((i,j))\n",
    "                data.drop(j,inplace = True)\n",
    "    except Exception:\n",
    "        pass\n",
    "related = pd.DataFrame(related)\n",
    "related.groupby('query').size().sort_values(ascending = False)[:10] #размеры групп"
   ]
  },
  {
   "cell_type": "markdown",
   "metadata": {},
   "source": [
    "#### Левый столбец- номер запроса на который собраны похожие, правый- кооличество похожих на этот запрос. Посмотрим, что вошло в эти группы"
   ]
  },
  {
   "cell_type": "code",
   "execution_count": 122,
   "metadata": {
    "collapsed": false,
    "scrolled": false
   },
   "outputs": [
    {
     "data": {
      "text/html": [
       "<div>\n",
       "<table border=\"1\" class=\"dataframe\">\n",
       "  <thead>\n",
       "    <tr style=\"text-align: right;\">\n",
       "      <th></th>\n",
       "      <th>query</th>\n",
       "      <th>related</th>\n",
       "      <th>related_text</th>\n",
       "    </tr>\n",
       "  </thead>\n",
       "  <tbody>\n",
       "    <tr>\n",
       "      <th>117</th>\n",
       "      <td>785</td>\n",
       "      <td>126166</td>\n",
       "      <td>фильмы  смотреть онлайн</td>\n",
       "    </tr>\n",
       "    <tr>\n",
       "      <th>118</th>\n",
       "      <td>785</td>\n",
       "      <td>53121</td>\n",
       "      <td>лего фильм смотреть онлайн</td>\n",
       "    </tr>\n",
       "    <tr>\n",
       "      <th>119</th>\n",
       "      <td>785</td>\n",
       "      <td>108523</td>\n",
       "      <td>смотреть русские фильмы</td>\n",
       "    </tr>\n",
       "    <tr>\n",
       "      <th>120</th>\n",
       "      <td>785</td>\n",
       "      <td>785</td>\n",
       "      <td>смотреть онлайн русский фильм</td>\n",
       "    </tr>\n",
       "    <tr>\n",
       "      <th>121</th>\n",
       "      <td>785</td>\n",
       "      <td>121667</td>\n",
       "      <td>фильм саранча  смотреть онлайн</td>\n",
       "    </tr>\n",
       "    <tr>\n",
       "      <th>122</th>\n",
       "      <td>785</td>\n",
       "      <td>126609</td>\n",
       "      <td>людмила гурченко фильм  смотреть онлайн</td>\n",
       "    </tr>\n",
       "    <tr>\n",
       "      <th>123</th>\n",
       "      <td>785</td>\n",
       "      <td>89403</td>\n",
       "      <td>смотреть онлайн фильм метод серия</td>\n",
       "    </tr>\n",
       "    <tr>\n",
       "      <th>124</th>\n",
       "      <td>785</td>\n",
       "      <td>132198</td>\n",
       "      <td>фильм бумеранг  смотреть онлайн</td>\n",
       "    </tr>\n",
       "  </tbody>\n",
       "</table>\n",
       "</div>"
      ],
      "text/plain": [
       "     query  related                             related_text\n",
       "117    785   126166                  фильмы  смотреть онлайн\n",
       "118    785    53121               лего фильм смотреть онлайн\n",
       "119    785   108523                 смотреть русские фильмы \n",
       "120    785      785            смотреть онлайн русский фильм\n",
       "121    785   121667           фильм саранча  смотреть онлайн\n",
       "122    785   126609  людмила гурченко фильм  смотреть онлайн\n",
       "123    785    89403        смотреть онлайн фильм метод серия\n",
       "124    785   132198          фильм бумеранг  смотреть онлайн"
      ]
     },
     "execution_count": 122,
     "metadata": {},
     "output_type": "execute_result"
    }
   ],
   "source": [
    "related['related_text'] =related['related'].apply(lambda x: d.loc[x,'text'])\n",
    "related[related['query']==785] #там, где related == query это взятый запрос."
   ]
  },
  {
   "cell_type": "code",
   "execution_count": 123,
   "metadata": {
    "collapsed": false,
    "scrolled": false
   },
   "outputs": [
    {
     "data": {
      "text/html": [
       "<div>\n",
       "<table border=\"1\" class=\"dataframe\">\n",
       "  <thead>\n",
       "    <tr style=\"text-align: right;\">\n",
       "      <th></th>\n",
       "      <th>query</th>\n",
       "      <th>related</th>\n",
       "      <th>related_text</th>\n",
       "    </tr>\n",
       "  </thead>\n",
       "  <tbody>\n",
       "    <tr>\n",
       "      <th>128</th>\n",
       "      <td>783</td>\n",
       "      <td>23017</td>\n",
       "      <td>верни мою любовь смотреть онлайн бесплатно</td>\n",
       "    </tr>\n",
       "    <tr>\n",
       "      <th>129</th>\n",
       "      <td>783</td>\n",
       "      <td>120025</td>\n",
       "      <td>молодёжка  сезон  серия смотреть онлайн бесплатно</td>\n",
       "    </tr>\n",
       "    <tr>\n",
       "      <th>130</th>\n",
       "      <td>783</td>\n",
       "      <td>126674</td>\n",
       "      <td>мадагаскар  смотреть онлайн бесплатно</td>\n",
       "    </tr>\n",
       "    <tr>\n",
       "      <th>131</th>\n",
       "      <td>783</td>\n",
       "      <td>28200</td>\n",
       "      <td>гончие смотреть онлайн бесплатно</td>\n",
       "    </tr>\n",
       "    <tr>\n",
       "      <th>132</th>\n",
       "      <td>783</td>\n",
       "      <td>31089</td>\n",
       "      <td>дикари смотреть онлайн бесплатно</td>\n",
       "    </tr>\n",
       "    <tr>\n",
       "      <th>133</th>\n",
       "      <td>783</td>\n",
       "      <td>783</td>\n",
       "      <td>смотреть онлайн бесплатно</td>\n",
       "    </tr>\n",
       "    <tr>\n",
       "      <th>134</th>\n",
       "      <td>783</td>\n",
       "      <td>89307</td>\n",
       "      <td>смотреть онлайн бесплатно братоны</td>\n",
       "    </tr>\n",
       "  </tbody>\n",
       "</table>\n",
       "</div>"
      ],
      "text/plain": [
       "     query  related                                       related_text\n",
       "128    783    23017         верни мою любовь смотреть онлайн бесплатно\n",
       "129    783   120025  молодёжка  сезон  серия смотреть онлайн бесплатно\n",
       "130    783   126674              мадагаскар  смотреть онлайн бесплатно\n",
       "131    783    28200                   гончие смотреть онлайн бесплатно\n",
       "132    783    31089                   дикари смотреть онлайн бесплатно\n",
       "133    783      783                          смотреть онлайн бесплатно\n",
       "134    783    89307                  смотреть онлайн бесплатно братоны"
      ]
     },
     "execution_count": 123,
     "metadata": {},
     "output_type": "execute_result"
    }
   ],
   "source": [
    "related[related['query']==783]"
   ]
  },
  {
   "cell_type": "markdown",
   "metadata": {},
   "source": [
    "#### Результаты действительно релевантны. как видно в основном взятый запрос входит на 100% в более длинный сравниваемый.\n",
    "#### Это можно использовать в обе стороны: и если ничего не нашлось на слишком подробный запрос предложить короче. или предложить расширения для коротких.\n",
    "#### С другой стороны эти же первые две группы можно слить в одну, хоть разница и не в синонимичных словах. надеюсь тут мне поможет Doc2Vec.\n",
    "#### В Doc2Vec можно просто попросить показать похожие наиденные предложения с заданным трешхолдом. поэтому тут не надо проходить по сету циклом. посмотрим похожие предложения для наиденных выше групп по 783 и 785 запросам но для всего сета."
   ]
  },
  {
   "cell_type": "code",
   "execution_count": 134,
   "metadata": {
    "collapsed": false
   },
   "outputs": [
    {
     "data": {
      "text/plain": [
       "[('дикари смотреть онлайн бесплатно', 0.934154748916626),\n",
       " (' смотреть онлайн бесплатно', 0.9223512411117554),\n",
       " ('гаишникисезонсерия смотреть онлайн бесплатно', 0.8979048728942871),\n",
       " ('гаишникисезон смотреть онлайн бесплатно', 0.8970521092414856),\n",
       " ('иллюзионист смотреть онлайн', 0.8942283391952515),\n",
       " ('мобкино смотреть онлайн бесплатно', 0.893585205078125),\n",
       " ('верни мою любовь смотреть онлайн бесплатно', 0.8927480578422546),\n",
       " ('зомбиру смотреть бесплатно', 0.8901247978210449),\n",
       " ('альфаамериканцы смотреть онлайн', 0.8851928114891052),\n",
       " ('смотреть доми онлайн', 0.884375810623169),\n",
       " ('библиотекари смотреть онлайн', 0.8838937282562256),\n",
       " ('карповсезон смотреть онлайн', 0.8834539651870728),\n",
       " ('гончие смотреть онлайн бесплатно', 0.8831233978271484),\n",
       " ('сплетница смотреть онлайн', 0.8826776742935181),\n",
       " ('смешарикисериянекультурный смотреть онлайн', 0.8802814483642578)]"
      ]
     },
     "execution_count": 134,
     "metadata": {},
     "output_type": "execute_result"
    }
   ],
   "source": [
    "doc_sim = modeld.docvecs.most_similar(783, topn=15)\n",
    "[(d.loc[x[0],'text'], x[1]) for x in doc_sim]"
   ]
  },
  {
   "cell_type": "markdown",
   "metadata": {},
   "source": [
    "#### Все запросы можно считать однотипными, даже если они менее, чем на 50% совпадают по словам. у Doc2Vec определенно больше перспектив.  \n",
    "#### А что есть попробовать разбить запросы на тип желаемого результата, такие как смотреть, купить, что такое..? \n",
    "####  Возьму за центры запросы состоящие из ключевых слов желаемых групп:"
   ]
  },
  {
   "cell_type": "code",
   "execution_count": 249,
   "metadata": {
    "collapsed": false
   },
   "outputs": [
    {
     "name": "stderr",
     "output_type": "stream",
     "text": [
      "/home/zoy/anaconda3/lib/python3.5/site-packages/sklearn/cluster/k_means_.py:821: RuntimeWarning: Explicit initial center position passed: performing only one init in k-means instead of n_init=10\n",
      "  n_jobs=self.n_jobs)\n"
     ]
    }
   ],
   "source": [
    "import numpy as np\n",
    "init\n",
    "init = np.array([modeld.docvecs[92940],modeld.docvecs[51499],modeld.docvecs[119622],modeld.docvecs[9]])\n",
    "kmeans = KMeans(n_clusters=4, init=init).fit(a)\n",
    "d['label'] = kmeans.labels_"
   ]
  },
  {
   "cell_type": "code",
   "execution_count": 250,
   "metadata": {
    "collapsed": false,
    "scrolled": true
   },
   "outputs": [
    {
     "data": {
      "text/html": [
       "<div>\n",
       "<table border=\"1\" class=\"dataframe\">\n",
       "  <thead>\n",
       "    <tr style=\"text-align: right;\">\n",
       "      <th></th>\n",
       "      <th>text</th>\n",
       "      <th>stem</th>\n",
       "      <th>spl</th>\n",
       "      <th>bgrams</th>\n",
       "      <th>lab</th>\n",
       "      <th>label</th>\n",
       "    </tr>\n",
       "  </thead>\n",
       "  <tbody>\n",
       "    <tr>\n",
       "      <th>92940</th>\n",
       "      <td>стоит ли читать книгу гарри поттер если смотре...</td>\n",
       "      <td>стоить ли читать книга гарри поттер если смотр...</td>\n",
       "      <td>[стоить, ли, читать, книга, гарри, поттер, есл...</td>\n",
       "      <td>[стоить_ли, читать, книга, гарри_поттер, если,...</td>\n",
       "      <td>0</td>\n",
       "      <td>0</td>\n",
       "    </tr>\n",
       "    <tr>\n",
       "      <th>51499</th>\n",
       "      <td>купить одежду huppa в интернет магазине</td>\n",
       "      <td>купить одежда huppa в интернет магазин</td>\n",
       "      <td>[купить, одежда, huppa, в, интернет, магазин]</td>\n",
       "      <td>[купить, одежда, huppa, в, интернет_магазин]</td>\n",
       "      <td>2</td>\n",
       "      <td>2</td>\n",
       "    </tr>\n",
       "    <tr>\n",
       "      <th>5443</th>\n",
       "      <td>iga что это такое</td>\n",
       "      <td>iga что это такой</td>\n",
       "      <td>[iga, что, это, такой]</td>\n",
       "      <td>[iga, что_это_такой]</td>\n",
       "      <td>2</td>\n",
       "      <td>2</td>\n",
       "    </tr>\n",
       "    <tr>\n",
       "      <th>1004</th>\n",
       "      <td>altj ∆ – lovely day</td>\n",
       "      <td>altj ∆ – lovely day</td>\n",
       "      <td>[altj, ∆, –, lovely, day]</td>\n",
       "      <td>[altj, ∆, –, lovely, day]</td>\n",
       "      <td>2</td>\n",
       "      <td>2</td>\n",
       "    </tr>\n",
       "  </tbody>\n",
       "</table>\n",
       "</div>"
      ],
      "text/plain": [
       "                                                    text  \\\n",
       "92940  стоит ли читать книгу гарри поттер если смотре...   \n",
       "51499            купить одежду huppa в интернет магазине   \n",
       "5443                                   iga что это такое   \n",
       "1004                                 altj ∆ – lovely day   \n",
       "\n",
       "                                                    stem  \\\n",
       "92940  стоить ли читать книга гарри поттер если смотр...   \n",
       "51499             купить одежда huppa в интернет магазин   \n",
       "5443                                   iga что это такой   \n",
       "1004                                 altj ∆ – lovely day   \n",
       "\n",
       "                                                     spl  \\\n",
       "92940  [стоить, ли, читать, книга, гарри, поттер, есл...   \n",
       "51499      [купить, одежда, huppa, в, интернет, магазин]   \n",
       "5443                              [iga, что, это, такой]   \n",
       "1004                           [altj, ∆, –, lovely, day]   \n",
       "\n",
       "                                                  bgrams  lab  label  \n",
       "92940  [стоить_ли, читать, книга, гарри_поттер, если,...    0      0  \n",
       "51499       [купить, одежда, huppa, в, интернет_магазин]    2      2  \n",
       "5443                                [iga, что_это_такой]    2      2  \n",
       "1004                           [altj, ∆, –, lovely, day]    2      2  "
      ]
     },
     "execution_count": 250,
     "metadata": {},
     "output_type": "execute_result"
    }
   ],
   "source": [
    "d.loc[[92940,51499,5443,1004]] #цетры съехали в одну точку( надо наверное лучше работать с центрами"
   ]
  },
  {
   "cell_type": "markdown",
   "metadata": {},
   "source": [
    "#### Посмотрим какие запросы теперь ближе всего к центрам"
   ]
  },
  {
   "cell_type": "code",
   "execution_count": 308,
   "metadata": {
    "collapsed": false
   },
   "outputs": [
    {
     "name": "stdout",
     "output_type": "stream",
     "text": [
      "какое сочинение можно написать про кухню  класс\n",
      "джеки сэндлер фильмы\n",
      "war of change\n",
      "aragorn the king of magic land\n"
     ]
    }
   ],
   "source": [
    "for i in range(4):\n",
    "    print(d.loc[modeld.docvecs.most_similar(positive=[kmeans.cluster_centers_[i]])[0][0],'text'])"
   ]
  },
  {
   "cell_type": "markdown",
   "metadata": {},
   "source": [
    "#### ну тоже неплохо. посмотрим теперь релевантность запроссов в этих группах"
   ]
  },
  {
   "cell_type": "code",
   "execution_count": 331,
   "metadata": {
    "collapsed": false
   },
   "outputs": [
    {
     "data": {
      "text/plain": [
       "label\n",
       "0    11953\n",
       "1    27009\n",
       "2    62724\n",
       "3    32211\n",
       "dtype: int64"
      ]
     },
     "execution_count": 331,
     "metadata": {},
     "output_type": "execute_result"
    }
   ],
   "source": [
    "d.groupby('label').size()"
   ]
  },
  {
   "cell_type": "code",
   "execution_count": 335,
   "metadata": {
    "collapsed": false
   },
   "outputs": [
    {
     "data": {
      "text/html": [
       "<div>\n",
       "<table border=\"1\" class=\"dataframe\">\n",
       "  <thead>\n",
       "    <tr style=\"text-align: right;\">\n",
       "      <th></th>\n",
       "      <th>text</th>\n",
       "      <th>label</th>\n",
       "    </tr>\n",
       "  </thead>\n",
       "  <tbody>\n",
       "    <tr>\n",
       "      <th>127492</th>\n",
       "      <td>информатика  класс скачать яндекс диск</td>\n",
       "      <td>0</td>\n",
       "    </tr>\n",
       "    <tr>\n",
       "      <th>24335</th>\n",
       "      <td>во сколько будет сегодня по каналу че макс</td>\n",
       "      <td>0</td>\n",
       "    </tr>\n",
       "    <tr>\n",
       "      <th>24274</th>\n",
       "      <td>внешняя и внутреня испания на современном этапе</td>\n",
       "      <td>0</td>\n",
       "    </tr>\n",
       "    <tr>\n",
       "      <th>75389</th>\n",
       "      <td>пример вин кода тойота королла америка машины</td>\n",
       "      <td>0</td>\n",
       "    </tr>\n",
       "    <tr>\n",
       "      <th>97085</th>\n",
       "      <td>тренажеры детские бэйби джимвелотренажер инстр...</td>\n",
       "      <td>0</td>\n",
       "    </tr>\n",
       "  </tbody>\n",
       "</table>\n",
       "</div>"
      ],
      "text/plain": [
       "                                                     text  label\n",
       "127492             информатика  класс скачать яндекс диск      0\n",
       "24335          во сколько будет сегодня по каналу че макс      0\n",
       "24274     внешняя и внутреня испания на современном этапе      0\n",
       "75389       пример вин кода тойота королла америка машины      0\n",
       "97085   тренажеры детские бэйби джимвелотренажер инстр...      0"
      ]
     },
     "execution_count": 335,
     "metadata": {},
     "output_type": "execute_result"
    }
   ],
   "source": [
    "d[d['label'] == 0][['text','label']].sample(5)"
   ]
  },
  {
   "cell_type": "code",
   "execution_count": 340,
   "metadata": {
    "collapsed": false,
    "scrolled": true
   },
   "outputs": [
    {
     "data": {
      "text/html": [
       "<div>\n",
       "<table border=\"1\" class=\"dataframe\">\n",
       "  <thead>\n",
       "    <tr style=\"text-align: right;\">\n",
       "      <th></th>\n",
       "      <th>text</th>\n",
       "      <th>label</th>\n",
       "    </tr>\n",
       "  </thead>\n",
       "  <tbody>\n",
       "    <tr>\n",
       "      <th>107573</th>\n",
       "      <td>ютуб видео александр солоник</td>\n",
       "      <td>1</td>\n",
       "    </tr>\n",
       "    <tr>\n",
       "      <th>61779</th>\n",
       "      <td>незнайка с волшебной палочкой смотреть онлайн</td>\n",
       "      <td>1</td>\n",
       "    </tr>\n",
       "    <tr>\n",
       "      <th>100114</th>\n",
       "      <td>фильм водный мир</td>\n",
       "      <td>1</td>\n",
       "    </tr>\n",
       "    <tr>\n",
       "      <th>54281</th>\n",
       "      <td>лучшие санатории россии рейтинг</td>\n",
       "      <td>1</td>\n",
       "    </tr>\n",
       "    <tr>\n",
       "      <th>73433</th>\n",
       "      <td>портретный очерк сочинение про друга</td>\n",
       "      <td>1</td>\n",
       "    </tr>\n",
       "  </tbody>\n",
       "</table>\n",
       "</div>"
      ],
      "text/plain": [
       "                                                 text  label\n",
       "107573                   ютуб видео александр солоник      1\n",
       "61779   незнайка с волшебной палочкой смотреть онлайн      1\n",
       "100114                               фильм водный мир      1\n",
       "54281                 лучшие санатории россии рейтинг      1\n",
       "73433            портретный очерк сочинение про друга      1"
      ]
     },
     "execution_count": 340,
     "metadata": {},
     "output_type": "execute_result"
    }
   ],
   "source": [
    "d[d['label'] == 1][['text','label']].sample(5)"
   ]
  },
  {
   "cell_type": "code",
   "execution_count": 341,
   "metadata": {
    "collapsed": false,
    "scrolled": true
   },
   "outputs": [
    {
     "data": {
      "text/html": [
       "<div>\n",
       "<table border=\"1\" class=\"dataframe\">\n",
       "  <thead>\n",
       "    <tr style=\"text-align: right;\">\n",
       "      <th></th>\n",
       "      <th>text</th>\n",
       "      <th>label</th>\n",
       "    </tr>\n",
       "  </thead>\n",
       "  <tbody>\n",
       "    <tr>\n",
       "      <th>62664</th>\n",
       "      <td>новости от сб по вкладам</td>\n",
       "      <td>3</td>\n",
       "    </tr>\n",
       "    <tr>\n",
       "      <th>6704</th>\n",
       "      <td>new netent casinos</td>\n",
       "      <td>3</td>\n",
       "    </tr>\n",
       "    <tr>\n",
       "      <th>90247</th>\n",
       "      <td>собес харьков коминтерновский район</td>\n",
       "      <td>3</td>\n",
       "    </tr>\n",
       "    <tr>\n",
       "      <th>115492</th>\n",
       "      <td>lenovo g- обзор</td>\n",
       "      <td>3</td>\n",
       "    </tr>\n",
       "    <tr>\n",
       "      <th>84676</th>\n",
       "      <td>септик астра отрицательные отзывы</td>\n",
       "      <td>3</td>\n",
       "    </tr>\n",
       "  </tbody>\n",
       "</table>\n",
       "</div>"
      ],
      "text/plain": [
       "                                       text  label\n",
       "62664              новости от сб по вкладам      3\n",
       "6704                     new netent casinos      3\n",
       "90247   собес харьков коминтерновский район      3\n",
       "115492                      lenovo g- обзор      3\n",
       "84676     септик астра отрицательные отзывы      3"
      ]
     },
     "execution_count": 341,
     "metadata": {},
     "output_type": "execute_result"
    }
   ],
   "source": [
    "d[d['label'] == 3][['text','label']].sample(5)"
   ]
  },
  {
   "cell_type": "markdown",
   "metadata": {},
   "source": [
    "####   Я довольно долго пыталась подобрать наиболее разные запросы. План не удался( наверное стоит перед обучением модели оставить такие односложные запросы для последующего центрирования.\n",
    "\n",
    "\n",
    "####   Ну а что если попробовать найти сколько действительно разных групп есть в сете?"
   ]
  },
  {
   "cell_type": "code",
   "execution_count": 37,
   "metadata": {
    "collapsed": false
   },
   "outputs": [
    {
     "data": {
      "text/plain": [
       "[164861.93977694336,\n",
       " 161930.53460052723,\n",
       " 159415.5556494498,\n",
       " 157388.87923943636,\n",
       " 155775.84076542515,\n",
       " 154296.44933774622,\n",
       " 152952.1080301792,\n",
       " 151620.45288893612,\n",
       " 150483.23744775436,\n",
       " 149377.1442545151,\n",
       " 148349.50294271475,\n",
       " 147375.5287112365,\n",
       " 146378.14154611283,\n",
       " 145470.47054473317,\n",
       " 144411.73588856874,\n",
       " 143835.69401583413,\n",
       " 143164.6716793776,\n",
       " 142149.7420731538,\n",
       " 141456.12323092218,\n",
       " 140793.46457679465,\n",
       " 140196.48305160124,\n",
       " 139515.91677980358,\n",
       " 139101.144745106,\n",
       " 138556.25684689643,\n",
       " 137978.5797269005,\n",
       " 137242.24938460416,\n",
       " 136846.80748002615,\n",
       " 136123.43486119827,\n",
       " 135504.93599178083]"
      ]
     },
     "execution_count": 37,
     "metadata": {},
     "output_type": "execute_result"
    }
   ],
   "source": [
    "a=[]\n",
    "for i in range(len(d)):\n",
    "    a.append(modeld.docvecs[i])\n",
    "\n",
    "summ=list(range(3,29))#29 потому, что надоело ждать\n",
    "for n in range(3,29):\n",
    "    kmeans = KMeans(n_clusters=n,init='k-means++', random_state=0).fit(a)\n",
    "    d['lab'] = kmeans.labels_\n",
    "    summ[n-3] = kmeans.inertia_\n",
    "summ"
   ]
  },
  {
   "cell_type": "code",
   "execution_count": 323,
   "metadata": {
    "collapsed": false
   },
   "outputs": [
    {
     "data": {
      "text/plain": [
       "[<matplotlib.lines.Line2D at 0x7f8c5841f668>]"
      ]
     },
     "execution_count": 323,
     "metadata": {},
     "output_type": "execute_result"
    }
   ],
   "source": [
    "pyplot.plot(range(3,32))"
   ]
  },
  {
   "cell_type": "markdown",
   "metadata": {},
   "source": [
    "#### Поиграв с масштабом граффика, мне показалось, что наибольший изгиб графика в точке 4.\n",
    "#### Посмотрим какие запросы ближе всего окажутся к центрам при таком подходе."
   ]
  },
  {
   "cell_type": "code",
   "execution_count": 342,
   "metadata": {
    "collapsed": false,
    "scrolled": false
   },
   "outputs": [
    {
     "name": "stdout",
     "output_type": "stream",
     "text": [
      "джеки сэндлер фильмы\n",
      "war of change\n",
      "какое сочинение можно написать про кухню  класс\n",
      "aragorn the king of magic land\n"
     ]
    }
   ],
   "source": [
    "n=4\n",
    "kmeans = KMeans(n_clusters=n, init='k-means++').fit(a)\n",
    "for i in range(n):\n",
    "    print(d.loc[modeld.docvecs.most_similar(positive=[kmeans.cluster_centers_[i]])[0][0],'text'])"
   ]
  },
  {
   "cell_type": "markdown",
   "metadata": {},
   "source": [
    "#### Похоже это и есть самые далекие точки. Значит результат такой же плохой. Это может значить о том, что надо лучше чистить сет перед обучением. Скорее всего там слишком много шума, что мешает правильному определению смысла."
   ]
  },
  {
   "cell_type": "markdown",
   "metadata": {},
   "source": [
    "### В итоге лучше всего для выявления похожих себя показал Doc2Vec. однако он же совем не справился с класстеризацией. но скорее всего тут просто нужно уделить больше времени и на сам алгоритм ."
   ]
  },
  {
   "cell_type": "raw",
   "metadata": {},
   "source": []
  },
  {
   "cell_type": "markdown",
   "metadata": {},
   "source": [
    "# вторая задачка"
   ]
  },
  {
   "cell_type": "markdown",
   "metadata": {},
   "source": [
    "#### 2.1  Я буду пользоваться простейшим вхождением описанным выше."
   ]
  },
  {
   "cell_type": "code",
   "execution_count": 88,
   "metadata": {
    "collapsed": false
   },
   "outputs": [
    {
     "data": {
      "text/html": [
       "<div>\n",
       "<table border=\"1\" class=\"dataframe\">\n",
       "  <thead>\n",
       "    <tr style=\"text-align: right;\">\n",
       "      <th></th>\n",
       "      <th>query</th>\n",
       "      <th>related</th>\n",
       "      <th>related_text</th>\n",
       "    </tr>\n",
       "  </thead>\n",
       "  <tbody>\n",
       "    <tr>\n",
       "      <th>0</th>\n",
       "      <td>4419</td>\n",
       "      <td>4823</td>\n",
       "      <td>онлайн поиск грузов</td>\n",
       "    </tr>\n",
       "    <tr>\n",
       "      <th>1</th>\n",
       "      <td>4341</td>\n",
       "      <td>3948</td>\n",
       "      <td>переводчик онлайн google</td>\n",
       "    </tr>\n",
       "    <tr>\n",
       "      <th>2</th>\n",
       "      <td>4341</td>\n",
       "      <td>9951</td>\n",
       "      <td>переводчик</td>\n",
       "    </tr>\n",
       "    <tr>\n",
       "      <th>3</th>\n",
       "      <td>5384</td>\n",
       "      <td>4758</td>\n",
       "      <td>рулетка</td>\n",
       "    </tr>\n",
       "    <tr>\n",
       "      <th>4</th>\n",
       "      <td>7003</td>\n",
       "      <td>10638</td>\n",
       "      <td>манка для ребенка  год</td>\n",
       "    </tr>\n",
       "  </tbody>\n",
       "</table>\n",
       "</div>"
      ],
      "text/plain": [
       "   query  related              related_text\n",
       "0   4419     4823       онлайн поиск грузов\n",
       "1   4341     3948  переводчик онлайн google\n",
       "2   4341     9951                переводчик\n",
       "3   5384     4758                   рулетка\n",
       "4   7003    10638    манка для ребенка  год"
      ]
     },
     "execution_count": 88,
     "metadata": {},
     "output_type": "execute_result"
    }
   ],
   "source": [
    "data = d.sample(10000)\n",
    "related=[]\n",
    "for i in data.index:\n",
    "    try:\n",
    "        str1 = set([x for x in data.loc[i,'bgrams'] if len(x)>2])\n",
    "        for j in data.index[i+1:]:\n",
    "            str2 = data.loc[j,'bgrams']\n",
    "            cnt = 0\n",
    "            for word in set([x for x in str1 if len(x)>2]):\n",
    "                if word in str2:\n",
    "                    cnt += 1\n",
    "            if len(str2)>0 and cnt/len(str2) > 0.6:\n",
    "                related.append((i,j))\n",
    "                data.drop(j,inplace = True)\n",
    "    except Exception:\n",
    "        pass\n",
    "rel = pd.DataFrame(related, columns=['query', 'related'])\n",
    "rel['related_text'] =rel['related'].apply(lambda x: d.loc[x,'text'])\n",
    "rel.head()"
   ]
  },
  {
   "cell_type": "markdown",
   "metadata": {},
   "source": [
    "#### 2.2"
   ]
  },
  {
   "cell_type": "code",
   "execution_count": 89,
   "metadata": {
    "collapsed": false
   },
   "outputs": [
    {
     "data": {
      "text/plain": [
       "qty  query  related_text                                       \n",
       "11   1148   эриус инструкция по применению                         1\n",
       "            симвастатин инструкция по применению                   1\n",
       "            ранитидин инструкция по применению                     1\n",
       "            омепразол инструкция по применению                     2\n",
       "            креон  инструкция по применению                        1\n",
       "            интерферон инструкция по применению                    1\n",
       "            деприм инструкция по применению                        1\n",
       "            де-нол инструкция по применению                        1\n",
       "            викасол инструкция по применению                       1\n",
       "            вальсакор инструкция по применению                     1\n",
       "8    1661   slot machine freeware                                  1\n",
       "            slot games uk                                          1\n",
       "            more free slot games                                   1\n",
       "            live slot games                                        1\n",
       "            free tv online                                         1\n",
       "            free slot                                              1\n",
       "            free online slot machine games with free spins         1\n",
       "            free games gambling                                    1\n",
       "6    500    онлайн игры для девочек                                1\n",
       "            онлайн игра пирамида                                   1\n",
       "            онлайн игра модница                                    1\n",
       "            игры онлайн пирамида                                   1\n",
       "            игры в обезьянки онлайн                                1\n",
       "            игра обезьянка                                         1\n",
       "5    2741   онлайн игра пирамида                                   1\n",
       "            онлайн игра динозавры бродилки бесплатно               1\n",
       "            онлайн игра вулкан                                     1\n",
       "            нарисованная игра бродилка                             1\n",
       "            игры бродилки                                          1\n",
       "     1420   фильмы армении смотреть онлайн бесплатно               1\n",
       "                                                                  ..\n",
       "1    46     PingMasterPro                                          1\n",
       "     45     в пожарной охране задержка выплаты заработной платы    1\n",
       "     44     нтв сюжет про краснодар застройки                      1\n",
       "     43     лукьянюк елена владимировна отзывы                     1\n",
       "     42     kfgjhjcrjgbz nvtym wtys                                1\n",
       "     41     кнедлики                                               1\n",
       "     40     solenoid parker                                        1\n",
       "     39     апелляционная жалоба это                               1\n",
       "     37     визитеры                                               1\n",
       "     36     cinco bolivares                                        1\n",
       "     35     купить daniel hechter                                  1\n",
       "     34     карта подмосковья с городами и поселками               1\n",
       "     33     флагман  видео                                         1\n",
       "     32     теракт в липецке                                       1\n",
       "     28     Ринофлуимуцил                                          1\n",
       "     26     перерегистрация ооо заявление                          1\n",
       "     25     катет напротив угла в  градусов                        1\n",
       "     23     приставы тюменской области официальный сайт            1\n",
       "     21     рассказ о Иване Ивановиче из белого бима чёрное ухо    1\n",
       "     20     зулайхо бойхонова  концерт                             1\n",
       "     19     история башкирских родов гайна                         1\n",
       "     17     ирина алексимова                                       1\n",
       "     15     отопительные печи                                      1\n",
       "     11     клотримазол                                            1\n",
       "     10     мумие для глаз                                         1\n",
       "     9      webtransfer                                            1\n",
       "     7      няня во владивостоке для детей - лет                   1\n",
       "     3      прочитай предложениянайди смысловые отрезки            1\n",
       "     1      центр занятости архангельск                            1\n",
       "     0      красного курсанта                                      1\n",
       "dtype: int64"
      ]
     },
     "execution_count": 89,
     "metadata": {},
     "output_type": "execute_result"
    }
   ],
   "source": [
    "rel = pd.DataFrame(related, columns=['query', 'related'])\n",
    "rel['related_text'] =rel['related'].apply(lambda x: d.loc[x,'text'])\n",
    "r = rel.groupby('query').size().reset_index()\n",
    "r.columns = ['query','qty']\n",
    "rel = rel.merge(r, on='query')\n",
    "rel.groupby(['qty','query', 'related_text']).size().sort_index(level = 'qty',ascending= False)"
   ]
  },
  {
   "cell_type": "code",
   "execution_count": 90,
   "metadata": {
    "collapsed": false
   },
   "outputs": [],
   "source": [
    "последний столбец показывает колличество данного запроса в группе. "
   ]
  },
  {
   "cell_type": "markdown",
   "metadata": {},
   "source": [
    "#### 2.3 И опять группировка по похожим. Если брать Doc2Vec то можно найти среднюю сумму произведений векторов запросов каждого пользователя.\n",
    "#### Либо также по вхождениям. Если есть лог кликов по ссылкам, можно также соединить и их множества.\n"
   ]
  }
 ],
 "metadata": {
  "anaconda-cloud": {},
  "kernelspec": {
   "display_name": "Python [conda root]",
   "language": "python",
   "name": "conda-root-py"
  },
  "language_info": {
   "codemirror_mode": {
    "name": "ipython",
    "version": 3
   },
   "file_extension": ".py",
   "mimetype": "text/x-python",
   "name": "python",
   "nbconvert_exporter": "python",
   "pygments_lexer": "ipython3",
   "version": "3.5.2"
  }
 },
 "nbformat": 4,
 "nbformat_minor": 1
}
